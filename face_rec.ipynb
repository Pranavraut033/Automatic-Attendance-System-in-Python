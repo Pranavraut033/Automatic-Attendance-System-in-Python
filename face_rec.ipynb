{
 "cells": [
  {
   "cell_type": "markdown",
   "metadata": {},
   "source": [
    "#### INIT"
   ]
  },
  {
   "cell_type": "code",
   "execution_count": 5,
   "metadata": {},
   "outputs": [],
   "source": [
    "import os\n",
    "import pickle\n",
    "import time\n",
    "from collections import Counter\n",
    "\n",
    "import cv2\n",
    "import face_recognition\n",
    "from imutils import paths\n",
    "from IPython.display import clear_output\n",
    "\n",
    "TRAINING_DATASET = 'dataset_training'\n",
    "TESTING_DATASET = 'dataset_testing'\n",
    "DATASET_FILE_NAME = 'model_encodings.pickle'\n",
    "\n",
    "FONT = cv2.FONT_HERSHEY_SIMPLEX"
   ]
  },
  {
   "cell_type": "markdown",
   "metadata": {},
   "source": [
    "### Database connector"
   ]
  },
  {
   "cell_type": "code",
   "execution_count": null,
   "metadata": {},
   "outputs": [],
   "source": [
    "DB_CONNECT = mysql.connector.connect(\n",
    "    host=\"localhost\",\n",
    "    port=\"3308\",\n",
    "    user=\"root\",\n",
    "    passwd=\"\"\n",
    ")\n",
    "IMG_SIZE = 128\n",
    "\n",
    "mycursor = DB_CONNECT.cursor()\n",
    "mycursor.execute(\"USE `student_record`\")"
   ]
  },
  {
   "cell_type": "markdown",
   "metadata": {},
   "source": [
    "### Encode"
   ]
  },
  {
   "cell_type": "code",
   "execution_count": 6,
   "metadata": {},
   "outputs": [
    {
     "name": "stdout",
     "output_type": "stream",
     "text": [
      "[INFO] fetching images...\n",
      "[INFO] processing image (vaibhav_pathak) 228/228...\n",
      "[INFO] serializing encodings...\n",
      "[INFO] DONE.\n"
     ]
    }
   ],
   "source": [
    "print(\"[INFO] fetching images...\")\n",
    "image_paths = list(paths.list_images(TRAINING_DATASET))\n",
    "\n",
    "knownEncodings = []\n",
    "knownNames = []\n",
    "\n",
    "num_images = len(image_paths)\n",
    "\n",
    "for (i, image_path) in enumerate(image_paths):\n",
    "    name = image_path.split(os.path.sep)[-2]\n",
    "    print(\"[INFO] processing image (%s) %d/%d...\" % (name, i + 1, num_images), end=\"\\r\")\n",
    "\n",
    "    image = cv2.imread(image_path)\n",
    "    image = cv2.cvtColor(image, cv2.COLOR_BGR2RGB)\n",
    "\n",
    "    boxes = face_recognition.face_locations(image, model='cnn')\n",
    "\n",
    "    encodings = face_recognition.face_encodings(image, boxes)\n",
    "\n",
    "    for encoding in encodings:\n",
    "        knownEncodings.append(encoding)\n",
    "        knownNames.append(name)\n",
    " \n",
    "print(\"\\n[INFO] serializing encodings...\")\n",
    "data = {\"encodings\": knownEncodings, \"names\": knownNames}\n",
    "\n",
    "f = open(DATASET_FILE_NAME, \"wb\")\n",
    "f.write(pickle.dumps(data))\n",
    "f.close()\n",
    "\n",
    "print(\"[INFO] DONE.\")"
   ]
  },
  {
   "cell_type": "markdown",
   "metadata": {},
   "source": [
    "### Live Demo"
   ]
  },
  {
   "cell_type": "code",
   "execution_count": null,
   "metadata": {},
   "outputs": [],
   "source": [
    "print(\"[INFO] loading encodings...\")\n",
    "data = pickle.loads(open(DATASET_FILE_NAME, \"rb\").read())\n",
    "\n",
    "print(\"[INFO] recognizing faces...\")\n",
    "\n",
    "cam = cv2.VideoCapture(0)\n",
    "cam.set(cv2.CAP_PROP_FRAME_WIDTH, 1280)\n",
    "cam.set(cv2.CAP_PROP_FRAME_HEIGHT, 720)\n",
    "\n",
    "cv2.namedWindow(\"recognize faces\")\n",
    "\n",
    "num_names = Counter(data['names'])\n",
    "present_name = list()\n",
    "\n",
    "while True:\n",
    "    ret, image = cam.read()\n",
    "    if not ret:\n",
    "        break\n",
    "    k = cv2.waitKey(1)\n",
    "\n",
    "    if k % 256 == 27:\n",
    "        print(\"\\nEscape hit, closing...\")\n",
    "        break\n",
    "\n",
    "    clear_output(wait=True)\n",
    "\n",
    "    boxes = face_recognition.face_locations(image, model='hop')\n",
    "    encodings = face_recognition.face_encodings(image, boxes)\n",
    "    names, present_name = [], []\n",
    "\n",
    "    # find faces    \n",
    "    for encoding in encodings:\n",
    "        matches = face_recognition.compare_faces(data[\"encodings\"], encoding)\n",
    "        num_prop = 0\n",
    "\n",
    "        if True in matches:\n",
    "            matchedIdxs = [i for (i, b) in enumerate(matches) if b]\n",
    "            counts = {}\n",
    "\n",
    "            for i in matchedIdxs:\n",
    "                name = data[\"names\"][i]\n",
    "                counts[name] = counts.get(name, 0) + 1\n",
    "\n",
    "            name = max(counts, key=counts.get)\n",
    "            num_prop = counts[name] / num_names[name]\n",
    "\n",
    "            print(\"[INFO] detected %s with '%f' accuracy ...\" %\n",
    "                  (name, num_prop))\n",
    "\n",
    "        if(num_prop > 0.85):\n",
    "            t = time.strftime('%Y-%m-%d %H:%M:%S')\n",
    "\n",
    "            if name not in present_name:\n",
    "                q = \"INSERT INTO attendance(name, timestamp) values ('\" + \\\n",
    "                    name + \"', '\" + t + \"');\"\n",
    "                mycursor.execute(q)\n",
    "\n",
    "            print(\"[INFO] Found %s (%f).\" % (name, num_prop))\n",
    "\n",
    "            present_name.append(name)\n",
    "\n",
    "        names.append(name if num_prop > 0.85 else \"Unknown\")\n",
    "\n",
    "    # draw rectangle over found faces\n",
    "    for ((top, right, bottom, left), name) in zip(boxes, names):\n",
    "      \n",
    "        left, top, right, bottom = left - 40, top - 80, right + 40, bottom + 20\n",
    "        \n",
    "        cv2.rectangle(image, (left, top), (right, bottom), (255, 0, 0), 2)\n",
    "        \n",
    "        s = cv2.getTextSize(name, FONT, 0.75, 1)\n",
    "\n",
    "        cv2.rectangle(image, (left, top), (left + s[0][0] + 40,  top + s[0][1] + 20), (255, 0, 0), -1)\n",
    "        name = name.replace(\"_\", \" \")\n",
    "        name = name.title()\n",
    "\n",
    "        cv2.putText(image, name, (left + 20, top + 10 + s[0][1]), FONT, 0.75, (255, 255, 255), 2)\n",
    "\n",
    "\n",
    "    cv2.imshow(\"recognize faces\", image)\n",
    "\n",
    "cam.release()\n",
    "\n",
    "cv2.destroyAllWindows()"
   ]
  }
 ],
 "metadata": {
  "file_extension": ".py",
  "kernelspec": {
   "display_name": "Python 3",
   "language": "python",
   "name": "python3"
  },
  "mimetype": "text/x-python",
  "name": "python",
  "npconvert_exporter": "python",
  "pygments_lexer": "ipython3",
  "version": 3
 },
 "nbformat": 4,
 "nbformat_minor": 2
}
